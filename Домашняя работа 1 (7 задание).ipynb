{
 "cells": [
  {
   "cell_type": "code",
   "execution_count": 2,
   "id": "d74f215d",
   "metadata": {},
   "outputs": [
    {
     "name": "stdout",
     "output_type": "stream",
     "text": [
      "25\n",
      "625\n"
     ]
    }
   ],
   "source": [
    "#7.\tНаписать программу, которая принимает от пользователя целое число и выводит на экран его квадрат.\n",
    "stri = int(input())\n",
    "result = pow(stri,2)\n",
    "print(result)\n",
    "# Сложность - О(1) (действие постоянное - квадрат числа)"
   ]
  },
  {
   "cell_type": "code",
   "execution_count": 3,
   "id": "895b9e2f",
   "metadata": {},
   "outputs": [
    {
     "name": "stdout",
     "output_type": "stream",
     "text": [
      "6\n",
      "36\n"
     ]
    }
   ],
   "source": [
    "stri = int(input())\n",
    "result = stri**2\n",
    "print(result)\n",
    "# Сложность - О(1) (действие постоянное - квадрат числа)"
   ]
  }
 ],
 "metadata": {
  "kernelspec": {
   "display_name": "Python 3 (ipykernel)",
   "language": "python",
   "name": "python3"
  },
  "language_info": {
   "codemirror_mode": {
    "name": "ipython",
    "version": 3
   },
   "file_extension": ".py",
   "mimetype": "text/x-python",
   "name": "python",
   "nbconvert_exporter": "python",
   "pygments_lexer": "ipython3",
   "version": "3.9.12"
  }
 },
 "nbformat": 4,
 "nbformat_minor": 5
}
