{
 "cells": [
  {
   "cell_type": "code",
   "execution_count": null,
   "id": "b868f4c3",
   "metadata": {},
   "outputs": [],
   "source": []
  },
  {
   "cell_type": "code",
   "execution_count": null,
   "id": "27abdc13",
   "metadata": {
    "scrolled": false
   },
   "outputs": [],
   "source": []
  },
  {
   "cell_type": "code",
   "execution_count": 2,
   "id": "5d97fed4",
   "metadata": {},
   "outputs": [
    {
     "name": "stdout",
     "output_type": "stream",
     "text": [
      "2\n"
     ]
    }
   ],
   "source": [
    "#1.\tСоздать кортеж, содержащий 4 разных числа. Вывести на экран значение второго элемента кортежа.\n",
    "t = (0, 1, 2, 3)\n",
    "print(t[2])\n",
    "# Сложность - О(1)"
   ]
  },
  {
   "cell_type": "code",
   "execution_count": null,
   "id": "df63c3e2",
   "metadata": {},
   "outputs": [],
   "source": []
  },
  {
   "cell_type": "code",
   "execution_count": 5,
   "id": "1053a016",
   "metadata": {},
   "outputs": [
    {
     "name": "stdout",
     "output_type": "stream",
     "text": [
      "какие-то слова\n"
     ]
    },
    {
     "data": {
      "text/plain": [
       "14"
      ]
     },
     "execution_count": 5,
     "metadata": {},
     "output_type": "execute_result"
    }
   ],
   "source": [
    "#2.\tНаписать программу, которая принимает строку от пользователя и выводит количество символов в этой строке.\n",
    "stri = input()\n",
    "len(stri)\n",
    "# Сложность - О(n) (зависит от количества слов, который задает пользователь)"
   ]
  },
  {
   "cell_type": "code",
   "execution_count": null,
   "id": "ec3c5c8f",
   "metadata": {},
   "outputs": [],
   "source": []
  },
  {
   "cell_type": "code",
   "execution_count": 7,
   "id": "407a781b",
   "metadata": {},
   "outputs": [
    {
     "name": "stdout",
     "output_type": "stream",
     "text": [
      "{'Имя': 'Ирина', 'Возраст': 20, 'Курс': 4}\n"
     ]
    }
   ],
   "source": [
    "#3.\tСоздать словарь, содержащий информацию о студенте: имя, возраст, курс. Вывести всю информацию о студенте на экран.\n",
    "d = {\"Имя\": \"Ирина\", \"Возраст\": 20, \"Курс\": 4}\n",
    "print(d)\n",
    "# Сложность - О(1)"
   ]
  },
  {
   "cell_type": "code",
   "execution_count": 13,
   "id": "af52715e",
   "metadata": {},
   "outputs": [
    {
     "name": "stdout",
     "output_type": "stream",
     "text": [
      "Имя студента -  Ирина , Возраст студента -  20 , Курс студента -  4\n"
     ]
    }
   ],
   "source": [
    "d = dict([{\"Имя\", \"Ирина\"}, {\"Возраст\", 20}, {\"Курс\", 4}])\n",
    "print(\"Имя студента - \", d[\"Имя\"], \", Возраст студента - \", d[\"Возраст\"], \", Курс студента - \", d[\"Курс\"])\n",
    "# Сложность - О(1)"
   ]
  },
  {
   "cell_type": "code",
   "execution_count": null,
   "id": "1d06d67e",
   "metadata": {},
   "outputs": [],
   "source": []
  },
  {
   "cell_type": "code",
   "execution_count": 19,
   "id": "ec26d3d1",
   "metadata": {},
   "outputs": [
    {
     "name": "stdout",
     "output_type": "stream",
     "text": [
      "[1, 2, 3, 4, 5, 6, 7, 8, 9, 10]\n"
     ]
    }
   ],
   "source": [
    "#4.\tИспользуя цикл, создать список, содержащий все целые числа от 1 до 10, и вывести его на экран.\n",
    "lis=[]\n",
    "for i in range(1,11,1):\n",
    "    lis.append(i)\n",
    "print(lis)\n",
    "# Сложность - О(n)"
   ]
  },
  {
   "cell_type": "code",
   "execution_count": 22,
   "id": "e33e6f64",
   "metadata": {},
   "outputs": [
    {
     "name": "stdout",
     "output_type": "stream",
     "text": [
      "[0, 1, 2, 3, 4, 5, 6, 7, 8, 9, 10]\n"
     ]
    }
   ],
   "source": [
    "n = 11\n",
    "lis=[]\n",
    "for i in range(n):\n",
    "    lis.append(i)\n",
    "print(lis)\n",
    "# Сложность - О(n)"
   ]
  },
  {
   "cell_type": "code",
   "execution_count": 23,
   "id": "67f5adf6",
   "metadata": {},
   "outputs": [
    {
     "name": "stdout",
     "output_type": "stream",
     "text": [
      "[0, 1, 2, 3, 4, 5, 6, 7, 8, 9, 10]\n"
     ]
    }
   ],
   "source": [
    "lis = [i for i in range(11)]\n",
    "print(lis)\n",
    "# Сложность - О(n)"
   ]
  },
  {
   "cell_type": "code",
   "execution_count": null,
   "id": "a8bef46a",
   "metadata": {},
   "outputs": [],
   "source": []
  },
  {
   "cell_type": "code",
   "execution_count": 37,
   "id": "0cad5964",
   "metadata": {},
   "outputs": [
    {
     "data": {
      "text/plain": [
       "23"
      ]
     },
     "execution_count": 37,
     "metadata": {},
     "output_type": "execute_result"
    }
   ],
   "source": [
    "#5.\tНаписать функцию, которая принимает список чисел и возвращает их сумму.\n",
    "list_num=[1,10,10,2]\n",
    "\n",
    "\n",
    "def sum_number (i):\n",
    "    total = sum(i)\n",
    "    return total\n",
    "    \n",
    "sum_number(list_num)\n",
    "# Сложность - О(n) (зависит от размера списка чисел)"
   ]
  },
  {
   "cell_type": "code",
   "execution_count": null,
   "id": "07939044",
   "metadata": {},
   "outputs": [],
   "source": []
  },
  {
   "cell_type": "code",
   "execution_count": 51,
   "id": "47dc0ba4",
   "metadata": {},
   "outputs": [
    {
     "name": "stdout",
     "output_type": "stream",
     "text": [
      "{32, 1, 23, 8, 42, 11}\n"
     ]
    }
   ],
   "source": [
    "#6.\tСоздать множество из 5 разных чисел, затем добавить в него новое число и вывести на экран.\n",
    "set_ = {1,42,11,8,32}\n",
    "set_.add(23)\n",
    "print(set_)\n",
    "# Сложность - О(n) (размер множества увеличивается и при выводе время увеличивается)"
   ]
  },
  {
   "cell_type": "code",
   "execution_count": null,
   "id": "c0e04345",
   "metadata": {},
   "outputs": [],
   "source": []
  },
  {
   "cell_type": "code",
   "execution_count": 7,
   "id": "678e1c64",
   "metadata": {
    "scrolled": true
   },
   "outputs": [
    {
     "name": "stdout",
     "output_type": "stream",
     "text": [
      "25\n",
      "625\n"
     ]
    }
   ],
   "source": [
    "#7.\tНаписать программу, которая принимает от пользователя целое число и выводит на экран его квадрат.\n",
    "stri = int(input())\n",
    "result = pow(stri,2)\n",
    "print(result)\n",
    "# Сложность - О(1) (действие постоянное - квадрат числа)"
   ]
  },
  {
   "cell_type": "code",
   "execution_count": 44,
   "id": "f5a297cb",
   "metadata": {},
   "outputs": [
    {
     "name": "stdout",
     "output_type": "stream",
     "text": [
      "3\n",
      "9\n"
     ]
    }
   ],
   "source": [
    "stri = int(input())\n",
    "result = stri**2\n",
    "print(result)\n",
    "# Сложность - О(1) (действие постоянное - квадрат числа)"
   ]
  },
  {
   "cell_type": "code",
   "execution_count": null,
   "id": "542b6966",
   "metadata": {},
   "outputs": [],
   "source": []
  },
  {
   "cell_type": "code",
   "execution_count": 2,
   "id": "a4e7c45c",
   "metadata": {},
   "outputs": [
    {
     "name": "stdout",
     "output_type": "stream",
     "text": [
      "Red , Yellow , Green , Green , Brown\n"
     ]
    }
   ],
   "source": [
    "#8.\tСоздать словарь с пятью парами «ключ-значение», где ключи - названия фруктов, а значения - их цвета. Вывести значения всех ключей.\n",
    "\n",
    "fruits = [(\"Apple\", \"Red\"), (\"Lemon\", \"Yellow\"), (\"Grapes\", \"Green\"), (\"Watermelon\", \"Green\"), (\"Pineapple\", \"Brown\")]\n",
    "fruits_dict= dict(fruits)\n",
    "\n",
    "print(fruits_dict[\"Apple\"], \",\", fruits_dict[\"Lemon\"], \",\", fruits_dict[\"Grapes\"], \",\", fruits_dict[\"Watermelon\"], \",\", fruits_dict[\"Pineapple\"])\n",
    "# Сложность - О(1) (действие постоянное)"
   ]
  },
  {
   "cell_type": "code",
   "execution_count": null,
   "id": "1db243fa",
   "metadata": {},
   "outputs": [],
   "source": []
  },
  {
   "cell_type": "code",
   "execution_count": 4,
   "id": "4d93d0c6",
   "metadata": {},
   "outputs": [
    {
     "name": "stdout",
     "output_type": "stream",
     "text": [
      "что то\n",
      "от отч\n"
     ]
    }
   ],
   "source": [
    "#9.\tНаписать функцию, которая принимает строку и выводит ее в обратном порядке.\n",
    "\n",
    "stri = input()[::-1]\n",
    "print(stri)\n",
    "# Сложность - О(n) (зависит от количества слов, который задает пользователь)"
   ]
  },
  {
   "cell_type": "code",
   "execution_count": 5,
   "id": "cd6bee98",
   "metadata": {},
   "outputs": [
    {
     "name": "stdout",
     "output_type": "stream",
     "text": [
      "что то\n",
      "от отч\n"
     ]
    }
   ],
   "source": [
    "stri = input()\n",
    "res_stri=''.join(reversed(stri))\n",
    "\n",
    "print(res_stri)\n",
    "# Сложность - О(n) (зависит от количества слов, который задает пользователь)"
   ]
  },
  {
   "cell_type": "code",
   "execution_count": 8,
   "id": "3bbab903",
   "metadata": {},
   "outputs": [
    {
     "name": "stdout",
     "output_type": "stream",
     "text": [
      "что то\n",
      "от отч\n"
     ]
    }
   ],
   "source": [
    "stri = input()\n",
    "res_stri=''\n",
    "for i in range(len(stri)-1,-1,-1):\n",
    "    res_stri+=stri[i]\n",
    "    \n",
    "print(res_stri)\n",
    "# Сложность - О(n) (зависит от количества слов, который задает пользователь)"
   ]
  },
  {
   "cell_type": "code",
   "execution_count": null,
   "id": "bd1cec63",
   "metadata": {},
   "outputs": [],
   "source": []
  },
  {
   "cell_type": "code",
   "execution_count": 14,
   "id": "85b40d5f",
   "metadata": {},
   "outputs": [
    {
     "name": "stdout",
     "output_type": "stream",
     "text": [
      "['Сегодня', 'хороший', 'денек', 'для', 'отдыха']\n"
     ]
    }
   ],
   "source": [
    "#10.\tСоздать список из 5 строк и заменить в нем третий элемент на новую строку.\n",
    "\n",
    "list_ = [\"Сегодня\", \"хороший\", \"день\", \"для\", \"отдыха\"]\n",
    "list_[2] = 'денек'\n",
    "\n",
    "print(list_)\n",
    "# Сложность - О(1) (постоянно менять элемент на определенной позиции)"
   ]
  },
  {
   "cell_type": "code",
   "execution_count": null,
   "id": "eecaa5a0",
   "metadata": {},
   "outputs": [],
   "source": []
  },
  {
   "cell_type": "code",
   "execution_count": 23,
   "id": "52e4564b",
   "metadata": {},
   "outputs": [
    {
     "name": "stdout",
     "output_type": "stream",
     "text": [
      "<class 'int'>\n",
      "<class 'bool'>\n",
      "<class 'str'>\n",
      "<class 'float'>\n",
      "<class 'dict'>\n",
      "<class 'list'>\n"
     ]
    }
   ],
   "source": [
    "#11.\tСоздать кортеж из 6 элементов разных типов данных и вывести на экран тип каждого элемента.\n",
    "\n",
    "t = (0, True, \"Нечто\", 1.84, {\"house\": \"дом\"}, [1,2,3])\n",
    "for i in range(len(t)):\n",
    "    print(type(t[i]))\n",
    "# Сложность - О(1) (входной массив не меняется)"
   ]
  },
  {
   "cell_type": "code",
   "execution_count": null,
   "id": "776f6373",
   "metadata": {},
   "outputs": [],
   "source": []
  },
  {
   "cell_type": "code",
   "execution_count": 26,
   "id": "93a20801",
   "metadata": {},
   "outputs": [
    {
     "name": "stdout",
     "output_type": "stream",
     "text": [
      "2\n",
      "10\n",
      "20\n"
     ]
    }
   ],
   "source": [
    "# 12.\tНаписать программу, которая принимает от пользователя два числа и выводит их произведение.\n",
    "x = int(input())\n",
    "y = int(input())\n",
    "\n",
    "print(x*y)\n",
    "# Сложность - О(1) (действие постоянное)"
   ]
  },
  {
   "cell_type": "code",
   "execution_count": null,
   "id": "ebd974f2",
   "metadata": {},
   "outputs": [],
   "source": []
  },
  {
   "cell_type": "code",
   "execution_count": 27,
   "id": "eb58f5a3",
   "metadata": {},
   "outputs": [
    {
     "name": "stdout",
     "output_type": "stream",
     "text": [
      "{'Автор': 'Фёдор Достоевский', 'Название': 'Преступление и наказание', 'Год издание': 1866}\n"
     ]
    }
   ],
   "source": [
    "#13.\tСоздать словарь, содержащий информацию о книге (автор, название, год издания), и вывести эту информацию на экран.\n",
    "d = {\"Автор\": \"Фёдор Достоевский\", \"Название\": \"Преступление и наказание\", \"Год издание\": 1866}\n",
    "print(d)\n",
    "# Сложность - О(1)"
   ]
  },
  {
   "cell_type": "code",
   "execution_count": null,
   "id": "3ac42773",
   "metadata": {},
   "outputs": [],
   "source": []
  },
  {
   "cell_type": "code",
   "execution_count": 32,
   "id": "a45a1f7d",
   "metadata": {},
   "outputs": [
    {
     "name": "stdout",
     "output_type": "stream",
     "text": [
      "{'Пинск', 'Барановичи', 'Минск', 'Гродно'}\n"
     ]
    }
   ],
   "source": [
    "#14.\tСоздать множество, содержащее названия 5 разных городов, затем удалить одно название и вывести оставшиеся.\n",
    "list_city = [\"Минск\", \"Гродно\", \"Пинск\", \"Барановичи\", \"Могилев\"]\n",
    "list_city_set = set(list_city)\n",
    "list_city_set.discard(\"Могилев\")\n",
    "\n",
    "print(list_city_set)\n",
    "# Сложность - О(1) (удаляет 1 (определенный) элемент)"
   ]
  },
  {
   "cell_type": "code",
   "execution_count": 31,
   "id": "75ca6ae4",
   "metadata": {},
   "outputs": [
    {
     "name": "stdout",
     "output_type": "stream",
     "text": [
      "{'Пинск', 'Барановичи', 'Минск', 'Гродно'}\n"
     ]
    }
   ],
   "source": [
    "list_city = [\"Минск\", \"Гродно\", \"Пинск\", \"Барановичи\", \"Могилев\"]\n",
    "list_city_set = set(list_city)\n",
    "list_city_set.remove(\"Могилев\")\n",
    "\n",
    "print(list_city_set)\n",
    "# Сложность - О(1) (удаляет 1 (определенный) элемент)"
   ]
  },
  {
   "cell_type": "code",
   "execution_count": null,
   "id": "7bd27ea2",
   "metadata": {},
   "outputs": [],
   "source": []
  },
  {
   "cell_type": "code",
   "execution_count": null,
   "id": "2bb02d9a",
   "metadata": {},
   "outputs": [],
   "source": []
  },
  {
   "cell_type": "code",
   "execution_count": 34,
   "id": "cb1c5e50",
   "metadata": {},
   "outputs": [
    {
     "data": {
      "text/plain": [
       "30"
      ]
     },
     "execution_count": 34,
     "metadata": {},
     "output_type": "execute_result"
    }
   ],
   "source": [
    "#15.\tНаписать функцию, которая принимает список чисел и возвращает максимальное из них.\n",
    "\n",
    "list_num=[1,10,30,2]\n",
    "\n",
    "def max_number(list_):\n",
    "    max_number_ = max(list_)\n",
    "    return max_number_\n",
    "\n",
    "max_number(list_num)\n",
    "# Сложность - О(n)"
   ]
  },
  {
   "cell_type": "code",
   "execution_count": null,
   "id": "564da183",
   "metadata": {},
   "outputs": [],
   "source": []
  },
  {
   "cell_type": "code",
   "execution_count": 41,
   "id": "25fed53d",
   "metadata": {},
   "outputs": [
    {
     "name": "stdout",
     "output_type": "stream",
     "text": [
      "[2, 4, 6, 8, 10, 12, 14, 16, 18, 20]\n"
     ]
    }
   ],
   "source": [
    "#16.\tСоздать список чисел от 1 до 20, а затем создать новый список, содержащий только четные числа из первого списка.\n",
    "\n",
    "list_num=[]\n",
    "list_num_1=[]\n",
    "i=0\n",
    "\n",
    "for i in range(1,21,1):\n",
    "    list_num.append(i)\n",
    "    \n",
    "for i in range(len(list_num)):\n",
    "    if list_num[i]%2 == 0:\n",
    "        list_num_1.append(i+1)\n",
    "    else: pass\n",
    "\n",
    "print(list_num_1)\n",
    "# Сложность - О(n)"
   ]
  },
  {
   "cell_type": "code",
   "execution_count": null,
   "id": "5a4f7816",
   "metadata": {},
   "outputs": [],
   "source": []
  },
  {
   "cell_type": "code",
   "execution_count": 8,
   "id": "d84e94cf",
   "metadata": {},
   "outputs": [
    {
     "name": "stdout",
     "output_type": "stream",
     "text": [
      "потоп\n",
      "True\n"
     ]
    }
   ],
   "source": [
    "#17.\tНаписать программу, которая принимает от пользователя строку и выводит True, если строка является палиндромом, и False в противном случае.\n",
    "\n",
    "stri=str(input())\n",
    "len_stri=len(stri)\n",
    "i=0\n",
    "len_stri=len_stri-1\n",
    "k=0\n",
    "\n",
    "while len_stri - i >= i:\n",
    "    if stri[len_stri - i] == stri[i]:\n",
    "        i += 1\n",
    "    else:\n",
    "        k = 1\n",
    "        break\n",
    "if k == 1:\n",
    "  print(False)\n",
    "else:\n",
    "  print(True)\n",
    "# Сложность - О(n)"
   ]
  },
  {
   "cell_type": "code",
   "execution_count": 9,
   "id": "a2d2ba3d",
   "metadata": {},
   "outputs": [
    {
     "name": "stdout",
     "output_type": "stream",
     "text": [
      "потоп\n",
      "True\n"
     ]
    }
   ],
   "source": [
    "stri=str(input())\n",
    "len_stri=len(stri)\n",
    "i=0\n",
    "len_stri=len_stri-1\n",
    "k=0\n",
    "\n",
    "for i in range(len_stri):\n",
    "    if stri[len_stri - i] == stri[i]: pass\n",
    "    else:k = 1\n",
    "        \n",
    "if k == 1:\n",
    "  print(False)\n",
    "else:\n",
    "  print(True)\n",
    "# Сложность - О(n)"
   ]
  },
  {
   "cell_type": "code",
   "execution_count": null,
   "id": "800d8285",
   "metadata": {},
   "outputs": [],
   "source": []
  },
  {
   "cell_type": "code",
   "execution_count": 54,
   "id": "840edec6",
   "metadata": {},
   "outputs": [
    {
     "name": "stdout",
     "output_type": "stream",
     "text": [
      "0\n",
      "True\n",
      "Нечто\n"
     ]
    }
   ],
   "source": [
    "#18.\tСоздать кортеж, содержащий 3 элемента различных типов данных, и распаковать его в отдельные переменные.\n",
    "t = (0, True, \"Нечто\")\n",
    "\n",
    "a, b, c = t\n",
    "print(a)\n",
    "print(b)\n",
    "print(c)\n",
    "# Сложность - О(1) (входной массив не меняется)"
   ]
  },
  {
   "cell_type": "code",
   "execution_count": null,
   "id": "62429795",
   "metadata": {},
   "outputs": [],
   "source": []
  },
  {
   "cell_type": "code",
   "execution_count": 53,
   "id": "4477e180",
   "metadata": {},
   "outputs": [
    {
     "data": {
      "text/plain": [
       "'Студент Ирина, в возрасте - 20 лет, учится на 4 курсе БГУИРА'"
      ]
     },
     "execution_count": 53,
     "metadata": {},
     "output_type": "execute_result"
    }
   ],
   "source": [
    "#19.\tНаписать функцию, которая принимает словарь с информацией о студенте (имя, возраст, курс) и выводит эту информацию в форматированном виде.\n",
    "\n",
    "d = {\"Имя\": \"Ирина\", \"Возраст\": 20, \"Курс\": 4}\n",
    "\n",
    "def format_student (slovar):\n",
    "    return 'Студент {}, в возрасте - {} лет, учится на {} курсе БГУИРА'.format(slovar[\"Имя\"], slovar[\"Возраст\"], slovar[\"Курс\"])\n",
    "\n",
    "format_student(d)\n",
    "# Сложность - О(1) (входной массив не меняется)"
   ]
  },
  {
   "cell_type": "code",
   "execution_count": null,
   "id": "fdfd44cc",
   "metadata": {},
   "outputs": [],
   "source": []
  },
  {
   "cell_type": "code",
   "execution_count": 50,
   "id": "9095f93b",
   "metadata": {},
   "outputs": [
    {
     "name": "stdout",
     "output_type": "stream",
     "text": [
      "[0, True, 'Нечто', 1.84, {'house': 'дом'}, [1, 2, 3]]\n"
     ]
    }
   ],
   "source": [
    "#20.\tСоздать список и добавить в него 5 различных элементов. Вывести содержимое списка на экран.\n",
    "\n",
    "list_num=[0, True, \"Нечто\", 1.84, {\"house\": \"дом\"}, [1,2,3]]\n",
    "print(list_num)\n",
    "# Сложность - О(1) (входной массив не меняется)"
   ]
  },
  {
   "cell_type": "code",
   "execution_count": null,
   "id": "b636b2e3",
   "metadata": {},
   "outputs": [],
   "source": []
  }
 ],
 "metadata": {
  "kernelspec": {
   "display_name": "Python 3 (ipykernel)",
   "language": "python",
   "name": "python3"
  },
  "language_info": {
   "codemirror_mode": {
    "name": "ipython",
    "version": 3
   },
   "file_extension": ".py",
   "mimetype": "text/x-python",
   "name": "python",
   "nbconvert_exporter": "python",
   "pygments_lexer": "ipython3",
   "version": "3.9.12"
  }
 },
 "nbformat": 4,
 "nbformat_minor": 5
}
