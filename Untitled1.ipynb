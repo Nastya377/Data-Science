{
 "cells": [
  {
   "cell_type": "code",
   "execution_count": null,
   "id": "b868f4c3",
   "metadata": {},
   "outputs": [],
   "source": []
  },
  {
   "cell_type": "code",
   "execution_count": null,
   "id": "27abdc13",
   "metadata": {
    "scrolled": false
   },
   "outputs": [],
   "source": []
  },
  {
   "cell_type": "code",
   "execution_count": 2,
   "id": "5d97fed4",
   "metadata": {},
   "outputs": [
    {
     "name": "stdout",
     "output_type": "stream",
     "text": [
      "2\n"
     ]
    }
   ],
   "source": [
    "#1.\tСоздать кортеж, содержащий 4 разных числа. Вывести на экран значение второго элемента кортежа.\n",
    "t = (0, 1, 2, 3)\n",
    "print(t[2])"
   ]
  },
  {
   "cell_type": "code",
   "execution_count": null,
   "id": "df63c3e2",
   "metadata": {},
   "outputs": [],
   "source": []
  },
  {
   "cell_type": "code",
   "execution_count": 5,
   "id": "1053a016",
   "metadata": {},
   "outputs": [
    {
     "name": "stdout",
     "output_type": "stream",
     "text": [
      "Какие-то слова\n"
     ]
    },
    {
     "data": {
      "text/plain": [
       "14"
      ]
     },
     "execution_count": 5,
     "metadata": {},
     "output_type": "execute_result"
    }
   ],
   "source": [
    "#2.\tНаписать программу, которая принимает строку от пользователя и выводит количество символов в этой строке.\n",
    "stri = input()\n",
    "len(stri)"
   ]
  },
  {
   "cell_type": "code",
   "execution_count": null,
   "id": "ec3c5c8f",
   "metadata": {},
   "outputs": [],
   "source": []
  },
  {
   "cell_type": "code",
   "execution_count": 7,
   "id": "407a781b",
   "metadata": {},
   "outputs": [
    {
     "name": "stdout",
     "output_type": "stream",
     "text": [
      "{'Имя': 'Ирина', 'Возраст': 20, 'Курс': 4}\n"
     ]
    }
   ],
   "source": [
    "#3.\tСоздать словарь, содержащий информацию о студенте: имя, возраст, курс. Вывести всю информацию о студенте на экран.\n",
    "d = {\"Имя\": \"Ирина\", \"Возраст\": 20, \"Курс\": 4}\n",
    "print(d)"
   ]
  },
  {
   "cell_type": "code",
   "execution_count": 13,
   "id": "af52715e",
   "metadata": {},
   "outputs": [
    {
     "name": "stdout",
     "output_type": "stream",
     "text": [
      "Имя студента -  Ирина , Возраст студента -  20 , Курс студента -  4\n"
     ]
    }
   ],
   "source": [
    "d = dict([{\"Имя\", \"Ирина\"}, {\"Возраст\", 20}, {\"Курс\", 4}])\n",
    "print(\"Имя студента - \", d[\"Имя\"], \", Возраст студента - \", d[\"Возраст\"], \", Курс студента - \", d[\"Курс\"])"
   ]
  },
  {
   "cell_type": "code",
   "execution_count": null,
   "id": "1d06d67e",
   "metadata": {},
   "outputs": [],
   "source": []
  },
  {
   "cell_type": "code",
   "execution_count": 19,
   "id": "ec26d3d1",
   "metadata": {},
   "outputs": [
    {
     "name": "stdout",
     "output_type": "stream",
     "text": [
      "[1, 2, 3, 4, 5, 6, 7, 8, 9, 10]\n"
     ]
    }
   ],
   "source": [
    "#4.\tИспользуя цикл, создать список, содержащий все целые числа от 1 до 10, и вывести его на экран.\n",
    "lis=[]\n",
    "for i in range(1,11,1):\n",
    "    lis.append(i)\n",
    "print(lis)"
   ]
  },
  {
   "cell_type": "code",
   "execution_count": 22,
   "id": "e33e6f64",
   "metadata": {},
   "outputs": [
    {
     "name": "stdout",
     "output_type": "stream",
     "text": [
      "[0, 1, 2, 3, 4, 5, 6, 7, 8, 9, 10]\n"
     ]
    }
   ],
   "source": [
    "n = 11\n",
    "lis=[]\n",
    "for i in range(n):\n",
    "    lis.append(i)\n",
    "print(lis)"
   ]
  },
  {
   "cell_type": "code",
   "execution_count": 23,
   "id": "67f5adf6",
   "metadata": {},
   "outputs": [
    {
     "name": "stdout",
     "output_type": "stream",
     "text": [
      "[0, 1, 2, 3, 4, 5, 6, 7, 8, 9, 10]\n"
     ]
    }
   ],
   "source": [
    "lis = [i for i in range(11)]\n",
    "print(lis)"
   ]
  },
  {
   "cell_type": "code",
   "execution_count": null,
   "id": "a8bef46a",
   "metadata": {},
   "outputs": [],
   "source": []
  },
  {
   "cell_type": "code",
   "execution_count": 37,
   "id": "0cad5964",
   "metadata": {},
   "outputs": [
    {
     "data": {
      "text/plain": [
       "23"
      ]
     },
     "execution_count": 37,
     "metadata": {},
     "output_type": "execute_result"
    }
   ],
   "source": [
    "#5.\tНаписать функцию, которая принимает список чисел и возвращает их сумму.\n",
    "list_num=[1,10,10,2]\n",
    "\n",
    "\n",
    "def sum_number (i):\n",
    "    total = sum(i)\n",
    "    return total\n",
    "    \n",
    "sum_number(list_num)"
   ]
  },
  {
   "cell_type": "code",
   "execution_count": null,
   "id": "07939044",
   "metadata": {},
   "outputs": [],
   "source": []
  },
  {
   "cell_type": "code",
   "execution_count": 51,
   "id": "47dc0ba4",
   "metadata": {},
   "outputs": [
    {
     "name": "stdout",
     "output_type": "stream",
     "text": [
      "{32, 1, 23, 8, 42, 11}\n"
     ]
    }
   ],
   "source": [
    "#6.\tСоздать множество из 5 разных чисел, затем добавить в него новое число и вывести на экран.\n",
    "set_ = {1,42,11,8,32}\n",
    "set_.add(23)\n",
    "print(set_)"
   ]
  },
  {
   "cell_type": "code",
   "execution_count": null,
   "id": "c0e04345",
   "metadata": {},
   "outputs": [],
   "source": []
  },
  {
   "cell_type": "code",
   "execution_count": 43,
   "id": "678e1c64",
   "metadata": {
    "scrolled": true
   },
   "outputs": [
    {
     "name": "stdout",
     "output_type": "stream",
     "text": [
      "5\n",
      "25\n"
     ]
    }
   ],
   "source": [
    "#7.\tНаписать программу, которая принимает от пользователя целое число и выводит на экран его квадрат.\n",
    "stri = int(input())\n",
    "result = pow(stri,2)\n",
    "print(result)"
   ]
  },
  {
   "cell_type": "code",
   "execution_count": 44,
   "id": "f5a297cb",
   "metadata": {},
   "outputs": [
    {
     "name": "stdout",
     "output_type": "stream",
     "text": [
      "3\n",
      "9\n"
     ]
    }
   ],
   "source": [
    "stri = int(input())\n",
    "result = stri**2\n",
    "print(result)"
   ]
  },
  {
   "cell_type": "code",
   "execution_count": null,
   "id": "542b6966",
   "metadata": {},
   "outputs": [],
   "source": []
  },
  {
   "cell_type": "code",
   "execution_count": null,
   "id": "a4e7c45c",
   "metadata": {},
   "outputs": [],
   "source": [
    "#8.\tСоздать словарь с пятью парами «ключ-значение», где ключи - названия фруктов, а значения - их цвета. Вывести значения всех ключей."
   ]
  },
  {
   "cell_type": "code",
   "execution_count": null,
   "id": "1db243fa",
   "metadata": {},
   "outputs": [],
   "source": []
  },
  {
   "cell_type": "code",
   "execution_count": null,
   "id": "4d93d0c6",
   "metadata": {},
   "outputs": [],
   "source": [
    "#9.\tНаписать функцию, которая принимает строку и выводит ее в обратном порядке."
   ]
  },
  {
   "cell_type": "code",
   "execution_count": null,
   "id": "cd6bee98",
   "metadata": {},
   "outputs": [],
   "source": []
  },
  {
   "cell_type": "code",
   "execution_count": null,
   "id": "eecaa5a0",
   "metadata": {},
   "outputs": [],
   "source": [
    "#10.\tСоздать список из 5 строк и заменить в нем третий элемент на новую строку."
   ]
  },
  {
   "cell_type": "code",
   "execution_count": null,
   "id": "776f6373",
   "metadata": {},
   "outputs": [],
   "source": []
  },
  {
   "cell_type": "code",
   "execution_count": 52,
   "id": "93a20801",
   "metadata": {},
   "outputs": [
    {
     "ename": "SyntaxError",
     "evalue": "invalid syntax (2294939051.py, line 1)",
     "output_type": "error",
     "traceback": [
      "\u001b[1;36m  Input \u001b[1;32mIn [52]\u001b[1;36m\u001b[0m\n\u001b[1;33m    git init\u001b[0m\n\u001b[1;37m        ^\u001b[0m\n\u001b[1;31mSyntaxError\u001b[0m\u001b[1;31m:\u001b[0m invalid syntax\n"
     ]
    }
   ],
   "source": [
    "git init\n",
    "git add README.md\n",
    "git commit -m \"first commit\"\n",
    "git branch -M main\n",
    "git remote add origin https://github.com/Nastya377/Sata-Science.git\n",
    "git push -u origin main"
   ]
  }
 ],
 "metadata": {
  "kernelspec": {
   "display_name": "Python 3 (ipykernel)",
   "language": "python",
   "name": "python3"
  },
  "language_info": {
   "codemirror_mode": {
    "name": "ipython",
    "version": 3
   },
   "file_extension": ".py",
   "mimetype": "text/x-python",
   "name": "python",
   "nbconvert_exporter": "python",
   "pygments_lexer": "ipython3",
   "version": "3.9.12"
  }
 },
 "nbformat": 4,
 "nbformat_minor": 5
}
