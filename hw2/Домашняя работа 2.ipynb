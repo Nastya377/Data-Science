{
 "cells": [
  {
   "cell_type": "code",
   "execution_count": 1,
   "id": "77607d79",
   "metadata": {},
   "outputs": [
    {
     "name": "stdout",
     "output_type": "stream",
     "text": [
      "Данные успешно загружены.\n"
     ]
    }
   ],
   "source": [
    "import data_loader as datal\n",
    "import main_rules as mod\n",
    "import numpy as np\n",
    "\n",
    "\n",
    "# Загрузка данных\n",
    "file_path = 'ds_salaries.csv'\n",
    "data = datal.load_data_csv(file_path)\n",
    "\n"
   ]
  },
  {
   "cell_type": "code",
   "execution_count": 2,
   "id": "b3cae6b2",
   "metadata": {},
   "outputs": [
    {
     "data": {
      "text/plain": [
       "index_series          0\n",
       "work_year             0\n",
       "experience_level      0\n",
       "employment_type       0\n",
       "job_title             0\n",
       "salary                0\n",
       "salary_currency       0\n",
       "salary_in_usd         0\n",
       "employee_residence    0\n",
       "remote_ratio          0\n",
       "company_location      0\n",
       "company_size          0\n",
       "dtype: int64"
      ]
     },
     "execution_count": 2,
     "metadata": {},
     "output_type": "execute_result"
    }
   ],
   "source": [
    "# Просмотр количества пустых значений (в датафрейме нет пустых)\n",
    "mod.null_data(data)"
   ]
  },
  {
   "cell_type": "code",
   "execution_count": 3,
   "id": "2bdea387",
   "metadata": {},
   "outputs": [
    {
     "data": {
      "text/plain": [
       "index_series          2\n",
       "work_year             2\n",
       "experience_level      3\n",
       "employment_type       1\n",
       "job_title             1\n",
       "salary                1\n",
       "salary_currency       3\n",
       "salary_in_usd         3\n",
       "employee_residence    2\n",
       "remote_ratio          2\n",
       "company_location      0\n",
       "company_size          1\n",
       "dtype: int64"
      ]
     },
     "execution_count": 3,
     "metadata": {},
     "output_type": "execute_result"
    }
   ],
   "source": [
    "# Добавление пустых значений\n",
    "data.loc[607] = [7, 2020,np.nan,np.nan, np.nan, np.nan, np.nan, np.nan, 'DE',0, 'DE', np.nan]\n",
    "data.iloc[2:4, 0:3] = np.nan\n",
    "data.iloc[7:9, 6:10] = np.nan\n",
    "\n",
    "# Просмотр количества пустых значений\n",
    "mod.null_data(data)"
   ]
  },
  {
   "cell_type": "code",
   "execution_count": null,
   "id": "394cffd7",
   "metadata": {},
   "outputs": [],
   "source": []
  },
  {
   "cell_type": "code",
   "execution_count": null,
   "id": "231898fc",
   "metadata": {},
   "outputs": [],
   "source": []
  },
  {
   "cell_type": "code",
   "execution_count": 6,
   "id": "5372297b",
   "metadata": {},
   "outputs": [
    {
     "name": "stdout",
     "output_type": "stream",
     "text": [
      "Пропущенные значения: \n",
      "     index_series  work_year experience_level employment_type  \\\n",
      "7             7.0     2020.0               MI              FT   \n",
      "8             8.0     2020.0               MI              FT   \n",
      "607           7.0     2020.0              NaN             NaN   \n",
      "\n",
      "                 job_title      salary salary_currency  salary_in_usd  \\\n",
      "7           Data Scientist  11000000.0             NaN            NaN   \n",
      "8    Business Data Analyst    135000.0             NaN            NaN   \n",
      "607                    NaN         NaN             NaN            NaN   \n",
      "\n",
      "    employee_residence  remote_ratio company_location company_size  \n",
      "7                  NaN           NaN               HU            L  \n",
      "8                  NaN           NaN               US            L  \n",
      "607                 DE           0.0               DE          NaN  \n",
      "Доля пропущенных значений в данных: 0.004934210526315789\n"
     ]
    }
   ],
   "source": [
    "# Статистика пустых значений по 'salary_currency' (сами строки с пустыми значениями и доля пустых)\n",
    "mod.null_data_report(data['salary_currency'])"
   ]
  },
  {
   "cell_type": "code",
   "execution_count": 7,
   "id": "e026fd1d",
   "metadata": {},
   "outputs": [
    {
     "name": "stdout",
     "output_type": "stream",
     "text": [
      "Пропущенные значения: \n",
      "     index_series  work_year experience_level employment_type  \\\n",
      "7             7.0     2020.0               MI              FT   \n",
      "8             8.0     2020.0               MI              FT   \n",
      "607           7.0     2020.0              NaN             NaN   \n",
      "\n",
      "                 job_title      salary salary_currency  salary_in_usd  \\\n",
      "7           Data Scientist  11000000.0             NaN            NaN   \n",
      "8    Business Data Analyst    135000.0             NaN            NaN   \n",
      "607                    NaN         NaN             NaN            NaN   \n",
      "\n",
      "    employee_residence  remote_ratio company_location company_size  \n",
      "7                  NaN           NaN               HU            L  \n",
      "8                  NaN           NaN               US            L  \n",
      "607                 DE           0.0               DE          NaN  \n",
      "Доля пропущенных значений в данных: 0.004934210526315789\n"
     ]
    }
   ],
   "source": [
    "# Статистика пустых значений по 'salary_in_usd' (сами строки с пустыми значениями и доля пустых)\n",
    "mod.null_data_report(data['salary_in_usd'])"
   ]
  },
  {
   "cell_type": "code",
   "execution_count": 12,
   "id": "38531ba2",
   "metadata": {},
   "outputs": [
    {
     "data": {
      "text/plain": [
       "index_series          2\n",
       "work_year             2\n",
       "experience_level      3\n",
       "employment_type       1\n",
       "job_title             1\n",
       "salary                0\n",
       "salary_currency       0\n",
       "salary_in_usd         0\n",
       "employee_residence    2\n",
       "remote_ratio          2\n",
       "company_location      0\n",
       "company_size          1\n",
       "dtype: int64"
      ]
     },
     "execution_count": 12,
     "metadata": {},
     "output_type": "execute_result"
    }
   ],
   "source": [
    "# замена пустых заначений \n",
    "mod.null_data_fill(data['salary_in_usd'])\n",
    "mod.null_data_fill(data['salary'], 'median')\n",
    "mod.null_data_fill(data['salary_currency'])\n",
    "\n",
    "# Просмотр количества пустых значений\n",
    "mod.null_data(data)"
   ]
  },
  {
   "cell_type": "code",
   "execution_count": null,
   "id": "4805e73f",
   "metadata": {},
   "outputs": [],
   "source": []
  },
  {
   "cell_type": "code",
   "execution_count": null,
   "id": "eea479ce",
   "metadata": {},
   "outputs": [],
   "source": []
  },
  {
   "cell_type": "code",
   "execution_count": 9,
   "id": "17c87e72",
   "metadata": {},
   "outputs": [
    {
     "data": {
      "image/png": "[encoded data removed]",
      "text/plain": [
       "<Figure size 720x432 with 1 Axes>"
      ]
     },
     "metadata": {
      "needs_background": "light"
     },
     "output_type": "display_data"
    }
   ],
   "source": [
    "mod.scatter_data(data['salary_in_usd'])"
   ]
  },
  {
   "cell_type": "code",
   "execution_count": 10,
   "id": "ad88f0d2",
   "metadata": {},
   "outputs": [
    {
     "data": {
      "image/png": "[encoded data removed]",
      "text/plain": [
       "<Figure size 720x432 with 1 Axes>"
      ]
     },
     "metadata": {
      "needs_background": "light"
     },
     "output_type": "display_data"
    }
   ],
   "source": [
    "mod.hist_data(data['salary_in_usd'])"
   ]
  },
  {
   "cell_type": "code",
   "execution_count": 11,
   "id": "476cf571",
   "metadata": {},
   "outputs": [
    {
     "name": "stderr",
     "output_type": "stream",
     "text": [
      "No artists with labels found to put in legend.  Note that artists whose label start with an underscore are ignored when legend() is called with no argument.\n"
     ]
    },
    {
     "data": {
      "image/png": "[encoded data removed]",
      "text/plain": [
       "<Figure size 720x432 with 1 Axes>"
      ]
     },
     "metadata": {
      "needs_background": "light"
     },
     "output_type": "display_data"
    }
   ],
   "source": [
    "filtered_data = data[data['job_title'].isin(['Data Scientist','Data Analyst','Product Data Analyst', 'Machine Learning Scientist'])]\n",
    "mod.bar_data(filtered_data['job_title'],filtered_data['salary_currency'])"
   ]
  }
 ],
 "metadata": {
  "kernelspec": {
   "display_name": "Python 3 (ipykernel)",
   "language": "python",
   "name": "python3"
  },
  "language_info": {
   "codemirror_mode": {
    "name": "ipython",
    "version": 3
   },
   "file_extension": ".py",
   "mimetype": "text/x-python",
   "name": "python",
   "nbconvert_exporter": "python",
   "pygments_lexer": "ipython3",
   "version": "3.9.12"
  }
 },
 "nbformat": 4,
 "nbformat_minor": 5
}
